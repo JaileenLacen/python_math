{
 "cells": [
  {
   "cell_type": "markdown",
   "id": "d4dfdd8a-f0ce-4565-9adf-08b05c8ba0ca",
   "metadata": {},
   "source": [
    "This is my first day exploring NumPy formally. I want to discover a way to engage in math through real programming cases."
   ]
  },
  {
   "cell_type": "code",
   "execution_count": null,
   "id": "09553e67-0a82-4244-ada5-321c0905f2b7",
   "metadata": {},
   "outputs": [],
   "source": [
    "import numpy as np"
   ]
  },
  {
   "cell_type": "markdown",
   "id": "57058edb-7129-4f81-9a90-19bfecf3be32",
   "metadata": {},
   "source": [
    "List comprehension trick\n",
    "Remember that a comprehension is a way to create a data structure (list, set or dictionary) without appending or looping.\n",
    "It follows this structure:"
   ]
  },
  {
   "cell_type": "code",
   "execution_count": 187,
   "id": "41761551-58c2-470b-b367-e49bb8d917da",
   "metadata": {},
   "outputs": [
    {
     "name": "stdout",
     "output_type": "stream",
     "text": [
      "['h', 'e', 'l', 'l', 'o']\n"
     ]
    }
   ],
   "source": [
    "new_list = [char for char in 'hello']\n",
    "print(new_list)"
   ]
  },
  {
   "cell_type": "code",
   "execution_count": 27,
   "id": "dd4860ec-51cc-46b4-a1d6-faa0a2ef4c42",
   "metadata": {},
   "outputs": [
    {
     "data": {
      "text/plain": [
       "array([[1, 2, 3],\n",
       "       [2, 3, 4],\n",
       "       [3, 4, 5]])"
      ]
     },
     "execution_count": 27,
     "metadata": {},
     "output_type": "execute_result"
    }
   ],
   "source": [
    "np.array([range(i, i + 3) for i in [1,2,3]])"
   ]
  },
  {
   "cell_type": "markdown",
   "id": "c3f6d918-e5a7-405d-b811-8c162c18d3a6",
   "metadata": {},
   "source": [
    "This comprehension takes each element in [1,2,3] and makes a list starting on it. Then, the function np.array creates an array from the \"list of lists\"."
   ]
  },
  {
   "cell_type": "markdown",
   "id": "5e82eabe-6926-48a3-b3da-f2ab4fc6ecca",
   "metadata": {},
   "source": [
    "There are two main types of arrays.\n",
    "1. 1D-arrays\n",
    "2. Multidimensional arrays (2D, 3D)"
   ]
  },
  {
   "cell_type": "code",
   "execution_count": 49,
   "id": "16bdaa60-1ced-4493-b486-2a74aea00ed2",
   "metadata": {},
   "outputs": [
    {
     "data": {
      "text/plain": [
       "array([5, 5, 4, 2, 6, 3])"
      ]
     },
     "execution_count": 49,
     "metadata": {},
     "output_type": "execute_result"
    }
   ],
   "source": [
    "np.random.randint(8, size=6)"
   ]
  },
  {
   "cell_type": "code",
   "execution_count": 63,
   "id": "07625d46-a03f-4216-880c-251927aa84c1",
   "metadata": {},
   "outputs": [
    {
     "data": {
      "text/plain": [
       "array([[[8, 9, 8, 0, 4],\n",
       "        [7, 4, 0, 2, 2],\n",
       "        [9, 1, 8, 9, 1],\n",
       "        [9, 2, 1, 4, 3]],\n",
       "\n",
       "       [[4, 4, 6, 2, 2],\n",
       "        [5, 5, 5, 5, 2],\n",
       "        [9, 6, 7, 3, 4],\n",
       "        [9, 1, 9, 7, 8]],\n",
       "\n",
       "       [[0, 3, 5, 0, 8],\n",
       "        [9, 8, 8, 7, 4],\n",
       "        [1, 6, 5, 9, 1],\n",
       "        [2, 5, 2, 2, 5]]])"
      ]
     },
     "execution_count": 63,
     "metadata": {},
     "output_type": "execute_result"
    }
   ],
   "source": [
    "x1 = np.random.randint(10, size=(3, 4, 5))\n",
    "x1"
   ]
  },
  {
   "cell_type": "code",
   "execution_count": 69,
   "id": "5b98cd53-3593-466d-bdd9-2eee74b40694",
   "metadata": {},
   "outputs": [
    {
     "data": {
      "text/plain": [
       "8"
      ]
     },
     "execution_count": 69,
     "metadata": {},
     "output_type": "execute_result"
    }
   ],
   "source": [
    "x1[0,0,0]"
   ]
  },
  {
   "cell_type": "code",
   "execution_count": 73,
   "id": "d8a0497b-5bb0-4ac6-a36e-a3f3836e2995",
   "metadata": {},
   "outputs": [
    {
     "data": {
      "text/plain": [
       "array([[[15,  9,  8,  0,  4],\n",
       "        [ 7,  4,  0,  2,  2],\n",
       "        [ 9,  1,  8,  9,  1],\n",
       "        [ 9,  2,  1,  4,  3]],\n",
       "\n",
       "       [[ 4,  4,  6,  2,  2],\n",
       "        [ 5,  5,  5,  5,  2],\n",
       "        [ 9,  6,  7,  3,  4],\n",
       "        [ 9,  1,  9,  7,  8]],\n",
       "\n",
       "       [[ 0,  3,  5,  0,  8],\n",
       "        [ 9,  8,  8,  7,  4],\n",
       "        [ 1,  6,  5,  9,  1],\n",
       "        [ 2,  5,  2,  2,  5]]])"
      ]
     },
     "execution_count": 73,
     "metadata": {},
     "output_type": "execute_result"
    }
   ],
   "source": [
    "x1[0,0,0] = 15\n",
    "x1"
   ]
  },
  {
   "cell_type": "code",
   "execution_count": 191,
   "id": "bffbd0aa-d67a-4cc1-a266-a2e9ed8eb240",
   "metadata": {},
   "outputs": [
    {
     "data": {
      "text/plain": [
       "array([[1, 0, 9],\n",
       "       [0, 9, 6],\n",
       "       [2, 0, 0]])"
      ]
     },
     "execution_count": 191,
     "metadata": {},
     "output_type": "execute_result"
    }
   ],
   "source": [
    "y = np.random.randint(10, size = (3,3))\n",
    "y"
   ]
  },
  {
   "cell_type": "markdown",
   "id": "74bbaff0-075e-4bd1-a4f6-ff7cde6cf1b0",
   "metadata": {},
   "source": [
    "Introducing the slicing, with the structure:\n",
    "[start:stop:step]\n",
    "\n",
    "Default: start=0, stop=size of the array, step=1"
   ]
  },
  {
   "cell_type": "code",
   "execution_count": 196,
   "id": "677776b8-dc2b-4aac-8052-7b1ce37aa8e5",
   "metadata": {},
   "outputs": [
    {
     "data": {
      "text/plain": [
       "array([[1, 0, 9]])"
      ]
     },
     "execution_count": 196,
     "metadata": {},
     "output_type": "execute_result"
    }
   ],
   "source": [
    "y[:1,]"
   ]
  },
  {
   "cell_type": "code",
   "execution_count": 198,
   "id": "e30eca4c-edd1-490b-9bb2-09cfb3954ceb",
   "metadata": {},
   "outputs": [
    {
     "data": {
      "text/plain": [
       "array([[2, 0]])"
      ]
     },
     "execution_count": 198,
     "metadata": {},
     "output_type": "execute_result"
    }
   ],
   "source": [
    "y[2:3, :2]"
   ]
  },
  {
   "cell_type": "code",
   "execution_count": 200,
   "id": "08b48321-f9ba-4f1e-bbb3-1e8f42910566",
   "metadata": {},
   "outputs": [
    {
     "data": {
      "text/plain": [
       "array([[9, 6]])"
      ]
     },
     "execution_count": 200,
     "metadata": {},
     "output_type": "execute_result"
    }
   ],
   "source": [
    "y[1:2,1:]"
   ]
  },
  {
   "cell_type": "code",
   "execution_count": 206,
   "id": "59df3a7f-088f-4748-8bbd-d9b9f854e31a",
   "metadata": {},
   "outputs": [
    {
     "data": {
      "text/plain": [
       "array([[1],\n",
       "       [0],\n",
       "       [2]])"
      ]
     },
     "execution_count": 206,
     "metadata": {},
     "output_type": "execute_result"
    }
   ],
   "source": [
    "y[:, :1]"
   ]
  },
  {
   "cell_type": "code",
   "execution_count": 208,
   "id": "ade3002b-5f55-4ef0-ab22-38ca72e16854",
   "metadata": {},
   "outputs": [
    {
     "data": {
      "text/plain": [
       "array([[0, 9],\n",
       "       [2, 0]])"
      ]
     },
     "execution_count": 208,
     "metadata": {},
     "output_type": "execute_result"
    }
   ],
   "source": [
    "y[1:, :2]"
   ]
  },
  {
   "cell_type": "markdown",
   "id": "c5a11f4d-97af-4c64-ad8a-0c6fd61edfd4",
   "metadata": {},
   "source": [
    "The following gives you the first, second, and third column as a 1D-array"
   ]
  },
  {
   "cell_type": "code",
   "execution_count": 215,
   "id": "bbfffad2-5551-4360-8102-de35f6f46745",
   "metadata": {},
   "outputs": [
    {
     "data": {
      "text/plain": [
       "array([1, 0, 2])"
      ]
     },
     "execution_count": 215,
     "metadata": {},
     "output_type": "execute_result"
    }
   ],
   "source": [
    "y[:, 0]"
   ]
  },
  {
   "cell_type": "code",
   "execution_count": 223,
   "id": "61b8ccd3-7637-48bb-8717-56cf4d92cb87",
   "metadata": {},
   "outputs": [
    {
     "data": {
      "text/plain": [
       "array([0, 9, 0])"
      ]
     },
     "execution_count": 223,
     "metadata": {},
     "output_type": "execute_result"
    }
   ],
   "source": [
    "y[:, 1]"
   ]
  },
  {
   "cell_type": "code",
   "execution_count": 225,
   "id": "349169bb-abfc-4cbb-a561-531471e9b72b",
   "metadata": {},
   "outputs": [
    {
     "data": {
      "text/plain": [
       "array([9, 6, 0])"
      ]
     },
     "execution_count": 225,
     "metadata": {},
     "output_type": "execute_result"
    }
   ],
   "source": [
    "y[:,2]"
   ]
  },
  {
   "cell_type": "code",
   "execution_count": 227,
   "id": "8e77b097-6c33-4dfa-954d-45bdf3bd382b",
   "metadata": {},
   "outputs": [
    {
     "name": "stdout",
     "output_type": "stream",
     "text": [
      "[[1 0 9]\n",
      " [0 9 6]\n",
      " [2 0 0]]\n"
     ]
    }
   ],
   "source": [
    "print(y)"
   ]
  },
  {
   "cell_type": "markdown",
   "id": "94a56d21-b618-40a5-9aee-9e64d45d6ae1",
   "metadata": {},
   "source": [
    "You can reshape arrays"
   ]
  },
  {
   "cell_type": "code",
   "execution_count": 135,
   "id": "07206340-ec30-410c-b470-425009a5cf1d",
   "metadata": {},
   "outputs": [
    {
     "data": {
      "text/plain": [
       "array([[6, 2, 4],\n",
       "       [8, 0, 5]])"
      ]
     },
     "execution_count": 135,
     "metadata": {},
     "output_type": "execute_result"
    }
   ],
   "source": [
    "z = np.random.randint(10, size = (2,3))\n",
    "z"
   ]
  },
  {
   "cell_type": "code",
   "execution_count": 139,
   "id": "b42529b1-d44d-4aca-b5c5-51e349f38d0b",
   "metadata": {},
   "outputs": [
    {
     "data": {
      "text/plain": [
       "array([[6, 2],\n",
       "       [4, 8],\n",
       "       [0, 5]])"
      ]
     },
     "execution_count": 139,
     "metadata": {},
     "output_type": "execute_result"
    }
   ],
   "source": [
    "z_variation = z.reshape(3,2)\n",
    "z_variation"
   ]
  },
  {
   "cell_type": "markdown",
   "id": "7b8505d9-2eb1-4119-aa64-56bff225ed9d",
   "metadata": {},
   "source": [
    "You can combine arrays. The example bellow combines two 2D-arrays"
   ]
  },
  {
   "cell_type": "code",
   "execution_count": 165,
   "id": "d1f8d3f8-be9c-4bfe-8efd-856cd271a45c",
   "metadata": {},
   "outputs": [
    {
     "name": "stdout",
     "output_type": "stream",
     "text": [
      "[[[2 5]\n",
      "  [6 0]]\n",
      "\n",
      " [[4 5]\n",
      "  [9 5]]]\n"
     ]
    }
   ],
   "source": [
    "a = np.random.randint(10, size=(2,2))\n",
    "b = np.random.randint(10, size=(2,2))\n",
    "\n",
    "c = np.dstack((a, b))\n",
    "print(c)"
   ]
  },
  {
   "cell_type": "markdown",
   "id": "75eb7680-e32e-446c-b7df-19c5caecee0b",
   "metadata": {},
   "source": [
    "You can split arrays"
   ]
  },
  {
   "cell_type": "code",
   "execution_count": 183,
   "id": "7edab414-2bc9-42b1-b020-571c264ccaf6",
   "metadata": {},
   "outputs": [
    {
     "name": "stdout",
     "output_type": "stream",
     "text": [
      "[0 1] [2 3 4] []\n"
     ]
    }
   ],
   "source": [
    "a = [0,1,2,3,4]\n",
    "b,c,d = np.split(a, [2,5])\n",
    "print(b,c,d)"
   ]
  },
  {
   "cell_type": "markdown",
   "id": "3733c1df-2882-41cc-8104-0b73cb12fe09",
   "metadata": {},
   "source": [
    "You can perform a lot of operations with arrays using ufuncts. These are vectorized operations, which means that if you add 5 to the array, this results in every element of the array plus 5. \n",
    "\n",
    "Ex:"
   ]
  },
  {
   "cell_type": "code",
   "execution_count": 233,
   "id": "efcc2663-6959-4e15-b86b-243334014f65",
   "metadata": {},
   "outputs": [
    {
     "name": "stdout",
     "output_type": "stream",
     "text": [
      "[ 6  7  8  9 10]\n",
      "[ 6  7  8  9 10]\n"
     ]
    }
   ],
   "source": [
    "array1 = np.array([1,2,3,4,5])\n",
    "\n",
    "array1_plus_5 = np.add(5, array1)\n",
    "array1_plus_5_another_way = 5 + array1\n",
    "\n",
    "print(array1_plus_5)\n",
    "print(array1_plus_5_another_way)"
   ]
  },
  {
   "cell_type": "markdown",
   "id": "74ae534f-b474-43a5-93f4-7e914bd3c96d",
   "metadata": {},
   "source": [
    "You also can perform other arithmetic operations such as substraction, multiplication, division, modulus. Also exponents, logarithms, trig functions, advance functions and more."
   ]
  }
 ],
 "metadata": {
  "kernelspec": {
   "display_name": "Python [conda env:base] *",
   "language": "python",
   "name": "conda-base-py"
  },
  "language_info": {
   "codemirror_mode": {
    "name": "ipython",
    "version": 3
   },
   "file_extension": ".py",
   "mimetype": "text/x-python",
   "name": "python",
   "nbconvert_exporter": "python",
   "pygments_lexer": "ipython3",
   "version": "3.12.7"
  }
 },
 "nbformat": 4,
 "nbformat_minor": 5
}
